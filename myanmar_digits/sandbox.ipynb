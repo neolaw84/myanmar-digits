{
 "cells": [
  {
   "cell_type": "code",
   "execution_count": null,
   "metadata": {},
   "outputs": [],
   "source": [
    "%matplotlib inline\n",
    "\n",
    "from pathlib import Path\n",
    "import shutil\n",
    "\n",
    "from matplotlib import pyplot as plt\n",
    "\n",
    "import numpy as np\n",
    "import pandas as pd\n",
    "\n",
    "from sklearn import cluster\n",
    "\n",
    "from tqdm.auto import tqdm\n",
    "\n",
    "from PIL import Image, ImageOps, ImageEnhance"
   ]
  },
  {
   "cell_type": "code",
   "execution_count": null,
   "metadata": {},
   "outputs": [],
   "source": [
    "%cd .."
   ]
  },
  {
   "cell_type": "code",
   "execution_count": null,
   "metadata": {},
   "outputs": [],
   "source": [
    "from myanmar_digits import load_data\n",
    "\n",
    "X, y = load_data(return_X_y=True)"
   ]
  },
  {
   "cell_type": "code",
   "execution_count": null,
   "metadata": {},
   "outputs": [],
   "source": [
    "X.shape, y.shape"
   ]
  },
  {
   "cell_type": "code",
   "execution_count": null,
   "metadata": {},
   "outputs": [],
   "source": [
    "def load_gray_image(path:str, return_type:str=\"numpy\"):\n",
    "    assert return_type in [\"numpy\", \"pillow\", \"opencv\"]\n",
    "    with open(path, \"rb\") as f:\n",
    "        im_sample = Image.open(f)\n",
    "        im_sample_gray = ImageOps.grayscale(im_sample)\n",
    "        if return_type == \"pillow\":\n",
    "            return im_sample_gray\n",
    "        elif return_type == \"numpy\":\n",
    "            np_sample_gray = np.array(im_sample_gray)\n",
    "            return np_sample_gray\n",
    "        elif return_type == \"opencv\":\n",
    "            raise NotImplementedError(\"Not supported yet.\")\n",
    "\n",
    "img = load_gray_image(\"../raw_data/knn_sample_grid.1.jpeg\")\n",
    "plt.imshow(img, cmap=\"gray\")"
   ]
  },
  {
   "cell_type": "code",
   "execution_count": null,
   "metadata": {},
   "outputs": [],
   "source": [
    "def get_temp_image(img:np.array, copy:bool):\n",
    "    if copy:\n",
    "        _img = img.copy()\n",
    "    else:\n",
    "        _img = img\n",
    "    return _img\n",
    "\n",
    "def normalize(img:np.array, copy:bool=True):\n",
    "    _img = get_temp_image(img, copy)\n",
    "    _img = 1.0 - (_img - _img.min()) / (_img.max() - _img.min())\n",
    "    _img = (255 * _img).astype(np.uint8)\n",
    "    return _img\n",
    "\n",
    "MAX_COLOR = 255\n",
    "\n",
    "def enhance(img:np.array, thr:int=64, copy:bool=True):\n",
    "    _img = get_temp_image(img, copy)\n",
    "    _img[_img < thr] = 0\n",
    "    _img[_img >= MAX_COLOR - thr] = MAX_COLOR\n",
    "    return _img\n",
    "\n",
    "img_norm = normalize(img)\n",
    "img_enh = enhance(img_norm, thr=100)\n",
    "plt.imshow(img_enh, cmap=\"gray\")"
   ]
  },
  {
   "cell_type": "code",
   "execution_count": null,
   "metadata": {},
   "outputs": [],
   "source": [
    "enhancer = ImageEnhance.Contrast(Image.fromarray(img_enh))\n",
    "img_enh_ = enhancer.enhance(1.50)\n",
    "plt.imshow(img_enh_, cmap=\"gray\")"
   ]
  },
  {
   "cell_type": "code",
   "execution_count": null,
   "metadata": {},
   "outputs": [],
   "source": [
    "df = pd.read_csv(\"../pseudo_label.csv\", index_col=0)\n",
    "df.head"
   ]
  },
  {
   "cell_type": "code",
   "execution_count": null,
   "metadata": {},
   "outputs": [],
   "source": [
    "kmean = cluster.KMeans(n_clusters=10, init=np.linspace(0.0, 1.0, 10).reshape((10, 1)), max_iter=500, random_state=42)\n",
    "df[\"p_label\"] = kmean.fit_predict(df[[\"cx\"]].values)"
   ]
  },
  {
   "cell_type": "code",
   "execution_count": null,
   "metadata": {},
   "outputs": [],
   "source": [
    "for l in range(0, 10):\n",
    "    print (\"working on {}\".format(l))\n",
    "    fnames = df.fid[df.p_label == l]\n",
    "    dp = Path(\"..\").joinpath(\"data_labelled\").joinpath(\"c{}\".format(l))\n",
    "    print (\"dp is {}\".format(dp))\n",
    "    dp.mkdir(parents=True, exist_ok=True)\n",
    "    print (\"num files : {}\".format(len(fnames)))\n",
    "    for f in fnames:\n",
    "        sp = Path(\"..\").joinpath(\"data\").joinpath(f)\n",
    "        shutil.copy(str(sp), str(dp))"
   ]
  },
  {
   "cell_type": "code",
   "execution_count": null,
   "metadata": {},
   "outputs": [],
   "source": [
    "df.fid[df.p_label == 0]"
   ]
  },
  {
   "cell_type": "code",
   "execution_count": null,
   "metadata": {},
   "outputs": [],
   "source": []
  }
 ],
 "metadata": {
  "kernelspec": {
   "display_name": "Python 3.7.13 ('py37-dsup')",
   "language": "python",
   "name": "python3"
  },
  "language_info": {
   "codemirror_mode": {
    "name": "ipython",
    "version": 3
   },
   "file_extension": ".py",
   "mimetype": "text/x-python",
   "name": "python",
   "nbconvert_exporter": "python",
   "pygments_lexer": "ipython3",
   "version": "3.7.13"
  },
  "orig_nbformat": 4,
  "vscode": {
   "interpreter": {
    "hash": "3a9c1e998c7d6d5f29587b2c70e9bd488bb486b902354401efc27ca8457f04e9"
   }
  }
 },
 "nbformat": 4,
 "nbformat_minor": 2
}
