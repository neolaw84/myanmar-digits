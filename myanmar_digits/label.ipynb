{
 "cells": [
  {
   "cell_type": "code",
   "execution_count": 1,
   "metadata": {},
   "outputs": [
    {
     "name": "stderr",
     "output_type": "stream",
     "text": [
      "/home/edward/anaconda3/envs/py37-dsup/lib/python3.7/site-packages/tqdm/auto.py:22: TqdmWarning: IProgress not found. Please update jupyter and ipywidgets. See https://ipywidgets.readthedocs.io/en/stable/user_install.html\n",
      "  from .autonotebook import tqdm as notebook_tqdm\n"
     ]
    }
   ],
   "source": [
    "%matplotlib inline\n",
    "\n",
    "from pathlib import Path\n",
    "import shutil\n",
    "\n",
    "from matplotlib import pyplot as plt\n",
    "\n",
    "import numpy as np\n",
    "import pandas as pd\n",
    "\n",
    "from sklearn import cluster\n",
    "\n",
    "from tqdm.auto import tqdm"
   ]
  },
  {
   "cell_type": "code",
   "execution_count": 2,
   "metadata": {},
   "outputs": [
    {
     "data": {
      "text/plain": [
       "<bound method NDFrame.head of                  fid        cx\n",
       "0     img_-00001.png  0.367507\n",
       "1     img_000000.png  0.003100\n",
       "2     img_000001.png  0.002687\n",
       "3     img_000002.png  0.004341\n",
       "4     img_000003.png  0.004341\n",
       "...              ...       ...\n",
       "4895  img_004846.png  0.624929\n",
       "4896  img_004847.png  0.626355\n",
       "4897  img_004848.png  0.624929\n",
       "4898  img_004849.png  0.628066\n",
       "4899  img_004850.png  0.628922\n",
       "\n",
       "[4900 rows x 2 columns]>"
      ]
     },
     "execution_count": 2,
     "metadata": {},
     "output_type": "execute_result"
    }
   ],
   "source": [
    "df = pd.read_csv(\"../pseudo_label.csv\", index_col=0)\n",
    "df.head"
   ]
  },
  {
   "cell_type": "code",
   "execution_count": 3,
   "metadata": {},
   "outputs": [
    {
     "name": "stderr",
     "output_type": "stream",
     "text": [
      "/home/edward/anaconda3/envs/py37-dsup/lib/python3.7/site-packages/sklearn/cluster/_kmeans.py:1146: RuntimeWarning: Explicit initial center position passed: performing only one init in KMeans instead of n_init=10.\n",
      "  self._check_params(X)\n"
     ]
    }
   ],
   "source": [
    "kmean = cluster.KMeans(n_clusters=10, init=np.linspace(0.0, 1.0, 10).reshape((10, 1)), max_iter=500, random_state=42)\n",
    "df[\"p_label\"] = kmean.fit_predict(df[[\"cx\"]].values)"
   ]
  },
  {
   "cell_type": "code",
   "execution_count": 11,
   "metadata": {},
   "outputs": [
    {
     "name": "stdout",
     "output_type": "stream",
     "text": [
      "working on 0\n",
      "dp is ../data/c0\n",
      "num files : 441\n",
      "working on 1\n",
      "dp is ../data/c1\n",
      "num files : 370\n",
      "working on 2\n",
      "dp is ../data/c2\n",
      "num files : 514\n",
      "working on 3\n",
      "dp is ../data/c3\n",
      "num files : 609\n",
      "working on 4\n",
      "dp is ../data/c4\n",
      "num files : 798\n",
      "working on 5\n",
      "dp is ../data/c5\n",
      "num files : 590\n",
      "working on 6\n",
      "dp is ../data/c6\n",
      "num files : 557\n",
      "working on 7\n",
      "dp is ../data/c7\n",
      "num files : 327\n",
      "working on 8\n",
      "dp is ../data/c8\n",
      "num files : 57\n",
      "working on 9\n",
      "dp is ../data/c9\n",
      "num files : 637\n"
     ]
    }
   ],
   "source": [
    "for l in range(0, 10):\n",
    "    print (\"working on {}\".format(l))\n",
    "    fnames = df.fid[df.p_label == l]\n",
    "    dp = Path(\"..\").joinpath(\"data_labelled\").joinpath(\"c{}\".format(l))\n",
    "    print (\"dp is {}\".format(dp))\n",
    "    dp.mkdir(parents=True, exist_ok=True)\n",
    "    print (\"num files : {}\".format(len(fnames)))\n",
    "    for f in fnames:\n",
    "        sp = Path(\"..\").joinpath(\"data\").joinpath(f)\n",
    "        shutil.copy(str(sp), str(dp))"
   ]
  },
  {
   "cell_type": "code",
   "execution_count": 12,
   "metadata": {},
   "outputs": [
    {
     "data": {
      "text/plain": [
       "1       img_000000.png\n",
       "2       img_000001.png\n",
       "3       img_000002.png\n",
       "4       img_000003.png\n",
       "5       img_000004.png\n",
       "             ...      \n",
       "4676    img_004627.png\n",
       "4677    img_004628.png\n",
       "4678    img_004629.png\n",
       "4679    img_004630.png\n",
       "4680    img_004631.png\n",
       "Name: fid, Length: 441, dtype: object"
      ]
     },
     "execution_count": 12,
     "metadata": {},
     "output_type": "execute_result"
    }
   ],
   "source": [
    "df.fid[df.p_label == 0]"
   ]
  },
  {
   "cell_type": "code",
   "execution_count": null,
   "metadata": {},
   "outputs": [],
   "source": []
  }
 ],
 "metadata": {
  "kernelspec": {
   "display_name": "Python 3.7.13 ('py37-dsup')",
   "language": "python",
   "name": "python3"
  },
  "language_info": {
   "codemirror_mode": {
    "name": "ipython",
    "version": 3
   },
   "file_extension": ".py",
   "mimetype": "text/x-python",
   "name": "python",
   "nbconvert_exporter": "python",
   "pygments_lexer": "ipython3",
   "version": "3.7.13"
  },
  "orig_nbformat": 4,
  "vscode": {
   "interpreter": {
    "hash": "3a9c1e998c7d6d5f29587b2c70e9bd488bb486b902354401efc27ca8457f04e9"
   }
  }
 },
 "nbformat": 4,
 "nbformat_minor": 2
}
